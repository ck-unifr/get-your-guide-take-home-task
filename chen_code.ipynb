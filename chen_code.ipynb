{
 "cells": [
  {
   "cell_type": "markdown",
   "metadata": {},
   "source": [
    "# GetYourGuide Data Science Take Home Test\n",
    "\n",
    "Author: Kai Chen\n",
    "\n",
    "Date: Mar 2018"
   ]
  },
  {
   "cell_type": "markdown",
   "metadata": {},
   "source": [
    "train.csv and prediction.csv contain\n",
    "- Date\n",
    "- Keyword_ID\n",
    "- Ad_group_ID\n",
    "- Campaign_ID\n",
    "- Account_ID\n",
    "- Device_ID\n",
    "- Match_type_ID\n",
    "\n",
    "train.csv contains additional information\n",
    "- Revenue\n",
    "- Clicks\n",
    "- Conversions"
   ]
  },
  {
   "cell_type": "code",
   "execution_count": 47,
   "metadata": {
    "collapsed": true
   },
   "outputs": [],
   "source": [
    "import pandas as pd\n",
    "import numpy as np\n",
    "import matplotlib.pyplot as plt\n",
    "from IPython.display import display\n",
    "%matplotlib inline\n",
    "from sklearn.feature_extraction import FeatureHasher\n",
    "from sklearn.model_selection import train_test_split\n",
    "import xgboost\n",
    "from sklearn.metrics import explained_variance_score"
   ]
  },
  {
   "cell_type": "code",
   "execution_count": 22,
   "metadata": {},
   "outputs": [
    {
     "data": {
      "text/html": [
       "<div>\n",
       "<style>\n",
       "    .dataframe thead tr:only-child th {\n",
       "        text-align: right;\n",
       "    }\n",
       "\n",
       "    .dataframe thead th {\n",
       "        text-align: left;\n",
       "    }\n",
       "\n",
       "    .dataframe tbody tr th {\n",
       "        vertical-align: top;\n",
       "    }\n",
       "</style>\n",
       "<table border=\"1\" class=\"dataframe\">\n",
       "  <thead>\n",
       "    <tr style=\"text-align: right;\">\n",
       "      <th></th>\n",
       "      <th>Date</th>\n",
       "      <th>Keyword_ID</th>\n",
       "      <th>Ad_group_ID</th>\n",
       "      <th>Campaign_ID</th>\n",
       "      <th>Account_ID</th>\n",
       "      <th>Device_ID</th>\n",
       "      <th>Match_type_ID</th>\n",
       "      <th>Revenue</th>\n",
       "      <th>Clicks</th>\n",
       "      <th>Conversions</th>\n",
       "    </tr>\n",
       "  </thead>\n",
       "  <tbody>\n",
       "    <tr>\n",
       "      <th>0</th>\n",
       "      <td>2014-12-14</td>\n",
       "      <td>88883763407</td>\n",
       "      <td>1042143654876</td>\n",
       "      <td>71672332180</td>\n",
       "      <td>861287123742</td>\n",
       "      <td>298643508640</td>\n",
       "      <td>95725474456</td>\n",
       "      <td>0.0</td>\n",
       "      <td>2</td>\n",
       "      <td>0</td>\n",
       "    </tr>\n",
       "    <tr>\n",
       "      <th>1</th>\n",
       "      <td>2014-12-14</td>\n",
       "      <td>837336088038</td>\n",
       "      <td>1038839743255</td>\n",
       "      <td>685307833020</td>\n",
       "      <td>654870334100</td>\n",
       "      <td>298643508640</td>\n",
       "      <td>95725474456</td>\n",
       "      <td>0.0</td>\n",
       "      <td>2</td>\n",
       "      <td>0</td>\n",
       "    </tr>\n",
       "    <tr>\n",
       "      <th>2</th>\n",
       "      <td>2014-12-14</td>\n",
       "      <td>220115136780</td>\n",
       "      <td>691864063258</td>\n",
       "      <td>551279817203</td>\n",
       "      <td>212779990172</td>\n",
       "      <td>848779586902</td>\n",
       "      <td>95725474456</td>\n",
       "      <td>0.0</td>\n",
       "      <td>2</td>\n",
       "      <td>0</td>\n",
       "    </tr>\n",
       "    <tr>\n",
       "      <th>3</th>\n",
       "      <td>2014-12-14</td>\n",
       "      <td>423389776473</td>\n",
       "      <td>1044670215658</td>\n",
       "      <td>551279817203</td>\n",
       "      <td>212779990172</td>\n",
       "      <td>848779586902</td>\n",
       "      <td>95725474456</td>\n",
       "      <td>0.0</td>\n",
       "      <td>5</td>\n",
       "      <td>0</td>\n",
       "    </tr>\n",
       "    <tr>\n",
       "      <th>4</th>\n",
       "      <td>2014-12-14</td>\n",
       "      <td>546746671314</td>\n",
       "      <td>355072204358</td>\n",
       "      <td>919168440848</td>\n",
       "      <td>212779990172</td>\n",
       "      <td>298643508640</td>\n",
       "      <td>95725474456</td>\n",
       "      <td>0.0</td>\n",
       "      <td>2</td>\n",
       "      <td>0</td>\n",
       "    </tr>\n",
       "  </tbody>\n",
       "</table>\n",
       "</div>"
      ],
      "text/plain": [
       "         Date    Keyword_ID    Ad_group_ID   Campaign_ID    Account_ID  \\\n",
       "0  2014-12-14   88883763407  1042143654876   71672332180  861287123742   \n",
       "1  2014-12-14  837336088038  1038839743255  685307833020  654870334100   \n",
       "2  2014-12-14  220115136780   691864063258  551279817203  212779990172   \n",
       "3  2014-12-14  423389776473  1044670215658  551279817203  212779990172   \n",
       "4  2014-12-14  546746671314   355072204358  919168440848  212779990172   \n",
       "\n",
       "      Device_ID  Match_type_ID  Revenue  Clicks  Conversions  \n",
       "0  298643508640    95725474456      0.0       2            0  \n",
       "1  298643508640    95725474456      0.0       2            0  \n",
       "2  848779586902    95725474456      0.0       2            0  \n",
       "3  848779586902    95725474456      0.0       5            0  \n",
       "4  298643508640    95725474456      0.0       2            0  "
      ]
     },
     "metadata": {},
     "output_type": "display_data"
    }
   ],
   "source": [
    "train_df = pd.read_csv('ds_dp_assessment/train.csv')\n",
    "display(train_df.head())"
   ]
  },
  {
   "cell_type": "code",
   "execution_count": 24,
   "metadata": {},
   "outputs": [
    {
     "data": {
      "text/html": [
       "<div>\n",
       "<style>\n",
       "    .dataframe thead tr:only-child th {\n",
       "        text-align: right;\n",
       "    }\n",
       "\n",
       "    .dataframe thead th {\n",
       "        text-align: left;\n",
       "    }\n",
       "\n",
       "    .dataframe tbody tr th {\n",
       "        vertical-align: top;\n",
       "    }\n",
       "</style>\n",
       "<table border=\"1\" class=\"dataframe\">\n",
       "  <thead>\n",
       "    <tr style=\"text-align: right;\">\n",
       "      <th></th>\n",
       "      <th>Keyword_ID</th>\n",
       "      <th>Ad_group_ID</th>\n",
       "      <th>Campaign_ID</th>\n",
       "      <th>Account_ID</th>\n",
       "      <th>Device_ID</th>\n",
       "      <th>Match_type_ID</th>\n",
       "      <th>Revenue</th>\n",
       "      <th>Clicks</th>\n",
       "      <th>Conversions</th>\n",
       "    </tr>\n",
       "  </thead>\n",
       "  <tbody>\n",
       "    <tr>\n",
       "      <th>count</th>\n",
       "      <td>8.285423e+06</td>\n",
       "      <td>8.285423e+06</td>\n",
       "      <td>8.285423e+06</td>\n",
       "      <td>8.285423e+06</td>\n",
       "      <td>8.285423e+06</td>\n",
       "      <td>8.285423e+06</td>\n",
       "      <td>8.285423e+06</td>\n",
       "      <td>8.285423e+06</td>\n",
       "      <td>8.285423e+06</td>\n",
       "    </tr>\n",
       "    <tr>\n",
       "      <th>mean</th>\n",
       "      <td>5.492429e+11</td>\n",
       "      <td>5.514791e+11</td>\n",
       "      <td>5.175203e+11</td>\n",
       "      <td>4.846436e+11</td>\n",
       "      <td>6.273406e+11</td>\n",
       "      <td>5.287287e+11</td>\n",
       "      <td>1.782111e+02</td>\n",
       "      <td>3.385137e+00</td>\n",
       "      <td>4.980832e-02</td>\n",
       "    </tr>\n",
       "    <tr>\n",
       "      <th>std</th>\n",
       "      <td>3.166589e+11</td>\n",
       "      <td>3.170199e+11</td>\n",
       "      <td>3.136106e+11</td>\n",
       "      <td>2.207485e+11</td>\n",
       "      <td>3.258393e+11</td>\n",
       "      <td>3.942597e+11</td>\n",
       "      <td>2.327171e+03</td>\n",
       "      <td>6.373065e+00</td>\n",
       "      <td>6.945033e-01</td>\n",
       "    </tr>\n",
       "    <tr>\n",
       "      <th>min</th>\n",
       "      <td>9.502900e+05</td>\n",
       "      <td>2.179346e+06</td>\n",
       "      <td>5.045747e+08</td>\n",
       "      <td>1.516649e+11</td>\n",
       "      <td>2.986435e+11</td>\n",
       "      <td>9.572547e+10</td>\n",
       "      <td>0.000000e+00</td>\n",
       "      <td>2.000000e+00</td>\n",
       "      <td>0.000000e+00</td>\n",
       "    </tr>\n",
       "    <tr>\n",
       "      <th>25%</th>\n",
       "      <td>2.738680e+11</td>\n",
       "      <td>2.764484e+11</td>\n",
       "      <td>2.463512e+11</td>\n",
       "      <td>2.213542e+11</td>\n",
       "      <td>2.986435e+11</td>\n",
       "      <td>9.572547e+10</td>\n",
       "      <td>0.000000e+00</td>\n",
       "      <td>2.000000e+00</td>\n",
       "      <td>0.000000e+00</td>\n",
       "    </tr>\n",
       "    <tr>\n",
       "      <th>50%</th>\n",
       "      <td>5.486864e+11</td>\n",
       "      <td>5.513241e+11</td>\n",
       "      <td>5.178672e+11</td>\n",
       "      <td>6.021828e+11</td>\n",
       "      <td>8.487796e+11</td>\n",
       "      <td>8.725446e+11</td>\n",
       "      <td>0.000000e+00</td>\n",
       "      <td>2.000000e+00</td>\n",
       "      <td>0.000000e+00</td>\n",
       "    </tr>\n",
       "    <tr>\n",
       "      <th>75%</th>\n",
       "      <td>8.217763e+11</td>\n",
       "      <td>8.263512e+11</td>\n",
       "      <td>7.850502e+11</td>\n",
       "      <td>6.049053e+11</td>\n",
       "      <td>8.487796e+11</td>\n",
       "      <td>8.944136e+11</td>\n",
       "      <td>0.000000e+00</td>\n",
       "      <td>2.000000e+00</td>\n",
       "      <td>0.000000e+00</td>\n",
       "    </tr>\n",
       "    <tr>\n",
       "      <th>max</th>\n",
       "      <td>1.099511e+12</td>\n",
       "      <td>1.099508e+12</td>\n",
       "      <td>1.099401e+12</td>\n",
       "      <td>9.814537e+11</td>\n",
       "      <td>1.077719e+12</td>\n",
       "      <td>8.944136e+11</td>\n",
       "      <td>1.029647e+06</td>\n",
       "      <td>1.827000e+03</td>\n",
       "      <td>1.180000e+03</td>\n",
       "    </tr>\n",
       "  </tbody>\n",
       "</table>\n",
       "</div>"
      ],
      "text/plain": [
       "         Keyword_ID   Ad_group_ID   Campaign_ID    Account_ID     Device_ID  \\\n",
       "count  8.285423e+06  8.285423e+06  8.285423e+06  8.285423e+06  8.285423e+06   \n",
       "mean   5.492429e+11  5.514791e+11  5.175203e+11  4.846436e+11  6.273406e+11   \n",
       "std    3.166589e+11  3.170199e+11  3.136106e+11  2.207485e+11  3.258393e+11   \n",
       "min    9.502900e+05  2.179346e+06  5.045747e+08  1.516649e+11  2.986435e+11   \n",
       "25%    2.738680e+11  2.764484e+11  2.463512e+11  2.213542e+11  2.986435e+11   \n",
       "50%    5.486864e+11  5.513241e+11  5.178672e+11  6.021828e+11  8.487796e+11   \n",
       "75%    8.217763e+11  8.263512e+11  7.850502e+11  6.049053e+11  8.487796e+11   \n",
       "max    1.099511e+12  1.099508e+12  1.099401e+12  9.814537e+11  1.077719e+12   \n",
       "\n",
       "       Match_type_ID       Revenue        Clicks   Conversions  \n",
       "count   8.285423e+06  8.285423e+06  8.285423e+06  8.285423e+06  \n",
       "mean    5.287287e+11  1.782111e+02  3.385137e+00  4.980832e-02  \n",
       "std     3.942597e+11  2.327171e+03  6.373065e+00  6.945033e-01  \n",
       "min     9.572547e+10  0.000000e+00  2.000000e+00  0.000000e+00  \n",
       "25%     9.572547e+10  0.000000e+00  2.000000e+00  0.000000e+00  \n",
       "50%     8.725446e+11  0.000000e+00  2.000000e+00  0.000000e+00  \n",
       "75%     8.944136e+11  0.000000e+00  2.000000e+00  0.000000e+00  \n",
       "max     8.944136e+11  1.029647e+06  1.827000e+03  1.180000e+03  "
      ]
     },
     "metadata": {},
     "output_type": "display_data"
    }
   ],
   "source": [
    "display(train_df.describe())"
   ]
  },
  {
   "cell_type": "code",
   "execution_count": 25,
   "metadata": {},
   "outputs": [
    {
     "data": {
      "text/plain": [
       "array(['2014-12-14', '2014-12-15', '2014-12-16', '2014-12-17',\n",
       "       '2014-12-18', '2014-12-19', '2014-12-20', '2014-12-21',\n",
       "       '2014-12-22', '2014-12-23', '2014-12-24', '2014-12-25',\n",
       "       '2014-12-26', '2014-12-27', '2014-12-28', '2014-12-29',\n",
       "       '2014-12-30', '2014-12-31', '2015-01-01', '2015-01-02',\n",
       "       '2015-01-03', '2015-01-04', '2015-01-05', '2015-01-06',\n",
       "       '2015-01-07', '2015-01-08', '2015-01-09', '2015-01-10',\n",
       "       '2015-01-11', '2015-01-12', '2015-01-13', '2015-01-14',\n",
       "       '2015-01-15', '2015-01-16', '2015-01-17', '2015-01-18',\n",
       "       '2015-01-19', '2015-01-20', '2015-01-21', '2015-01-22',\n",
       "       '2015-01-23', '2015-01-24', '2015-01-25', '2015-01-26',\n",
       "       '2015-01-27', '2015-01-28', '2015-01-29', '2015-01-30',\n",
       "       '2015-01-31', '2015-02-01', '2015-02-02', '2015-02-03',\n",
       "       '2015-02-04', '2015-02-05', '2015-02-06', '2015-02-07',\n",
       "       '2015-02-08', '2015-02-09', '2015-02-10', '2015-02-11',\n",
       "       '2015-02-12', '2015-02-13', '2015-02-14', '2015-02-15',\n",
       "       '2015-02-16', '2015-02-17', '2015-02-18', '2015-02-19',\n",
       "       '2015-02-20', '2015-02-21', '2015-02-22', '2015-02-23',\n",
       "       '2015-02-24', '2015-02-25', '2015-02-26', '2015-02-27',\n",
       "       '2015-02-28', '2015-03-01', '2015-03-02', '2015-03-03',\n",
       "       '2015-03-04', '2015-03-05', '2015-03-06', '2015-03-07',\n",
       "       '2015-03-08', '2015-03-09', '2015-03-10', '2015-03-11',\n",
       "       '2015-03-12', '2015-03-13', '2015-03-14', '2015-03-15',\n",
       "       '2015-03-16', '2015-03-17', '2015-03-18', '2015-03-19',\n",
       "       '2015-03-20', '2015-03-21', '2015-03-22', '2015-03-23',\n",
       "       '2015-03-24', '2015-03-25', '2015-03-26', '2015-03-27',\n",
       "       '2015-03-28', '2015-03-29', '2015-03-30', '2015-03-31',\n",
       "       '2015-04-01', '2015-04-02', '2015-04-03', '2015-04-04',\n",
       "       '2015-04-05', '2015-04-06', '2015-04-07'], dtype=object)"
      ]
     },
     "metadata": {},
     "output_type": "display_data"
    }
   ],
   "source": [
    "display(train_df['Date'].unique())"
   ]
  },
  {
   "cell_type": "code",
   "execution_count": 26,
   "metadata": {},
   "outputs": [
    {
     "data": {
      "text/html": [
       "<div>\n",
       "<style>\n",
       "    .dataframe thead tr:only-child th {\n",
       "        text-align: right;\n",
       "    }\n",
       "\n",
       "    .dataframe thead th {\n",
       "        text-align: left;\n",
       "    }\n",
       "\n",
       "    .dataframe tbody tr th {\n",
       "        vertical-align: top;\n",
       "    }\n",
       "</style>\n",
       "<table border=\"1\" class=\"dataframe\">\n",
       "  <thead>\n",
       "    <tr style=\"text-align: right;\">\n",
       "      <th></th>\n",
       "      <th>Keyword_ID</th>\n",
       "      <th>Ad_group_ID</th>\n",
       "      <th>Campaign_ID</th>\n",
       "      <th>Account_ID</th>\n",
       "      <th>Device_ID</th>\n",
       "      <th>Match_type_ID</th>\n",
       "      <th>Revenue</th>\n",
       "      <th>Clicks</th>\n",
       "      <th>Conversions</th>\n",
       "      <th>RPC</th>\n",
       "    </tr>\n",
       "  </thead>\n",
       "  <tbody>\n",
       "    <tr>\n",
       "      <th>count</th>\n",
       "      <td>8.285423e+06</td>\n",
       "      <td>8.285423e+06</td>\n",
       "      <td>8.285423e+06</td>\n",
       "      <td>8.285423e+06</td>\n",
       "      <td>8.285423e+06</td>\n",
       "      <td>8.285423e+06</td>\n",
       "      <td>8.285423e+06</td>\n",
       "      <td>8.285423e+06</td>\n",
       "      <td>8.285423e+06</td>\n",
       "      <td>8.285423e+06</td>\n",
       "    </tr>\n",
       "    <tr>\n",
       "      <th>mean</th>\n",
       "      <td>5.492429e+11</td>\n",
       "      <td>5.514791e+11</td>\n",
       "      <td>5.175203e+11</td>\n",
       "      <td>4.846436e+11</td>\n",
       "      <td>6.273406e+11</td>\n",
       "      <td>5.287287e+11</td>\n",
       "      <td>1.782111e+02</td>\n",
       "      <td>3.385137e+00</td>\n",
       "      <td>4.980832e-02</td>\n",
       "      <td>5.113287e+01</td>\n",
       "    </tr>\n",
       "    <tr>\n",
       "      <th>std</th>\n",
       "      <td>3.166589e+11</td>\n",
       "      <td>3.170199e+11</td>\n",
       "      <td>3.136106e+11</td>\n",
       "      <td>2.207485e+11</td>\n",
       "      <td>3.258393e+11</td>\n",
       "      <td>3.942597e+11</td>\n",
       "      <td>2.327171e+03</td>\n",
       "      <td>6.373065e+00</td>\n",
       "      <td>6.945033e-01</td>\n",
       "      <td>7.113045e+02</td>\n",
       "    </tr>\n",
       "    <tr>\n",
       "      <th>min</th>\n",
       "      <td>9.502900e+05</td>\n",
       "      <td>2.179346e+06</td>\n",
       "      <td>5.045747e+08</td>\n",
       "      <td>1.516649e+11</td>\n",
       "      <td>2.986435e+11</td>\n",
       "      <td>9.572547e+10</td>\n",
       "      <td>0.000000e+00</td>\n",
       "      <td>2.000000e+00</td>\n",
       "      <td>0.000000e+00</td>\n",
       "      <td>0.000000e+00</td>\n",
       "    </tr>\n",
       "    <tr>\n",
       "      <th>25%</th>\n",
       "      <td>2.738680e+11</td>\n",
       "      <td>2.764484e+11</td>\n",
       "      <td>2.463512e+11</td>\n",
       "      <td>2.213542e+11</td>\n",
       "      <td>2.986435e+11</td>\n",
       "      <td>9.572547e+10</td>\n",
       "      <td>0.000000e+00</td>\n",
       "      <td>2.000000e+00</td>\n",
       "      <td>0.000000e+00</td>\n",
       "      <td>0.000000e+00</td>\n",
       "    </tr>\n",
       "    <tr>\n",
       "      <th>50%</th>\n",
       "      <td>5.486864e+11</td>\n",
       "      <td>5.513241e+11</td>\n",
       "      <td>5.178672e+11</td>\n",
       "      <td>6.021828e+11</td>\n",
       "      <td>8.487796e+11</td>\n",
       "      <td>8.725446e+11</td>\n",
       "      <td>0.000000e+00</td>\n",
       "      <td>2.000000e+00</td>\n",
       "      <td>0.000000e+00</td>\n",
       "      <td>0.000000e+00</td>\n",
       "    </tr>\n",
       "    <tr>\n",
       "      <th>75%</th>\n",
       "      <td>8.217763e+11</td>\n",
       "      <td>8.263512e+11</td>\n",
       "      <td>7.850502e+11</td>\n",
       "      <td>6.049053e+11</td>\n",
       "      <td>8.487796e+11</td>\n",
       "      <td>8.944136e+11</td>\n",
       "      <td>0.000000e+00</td>\n",
       "      <td>2.000000e+00</td>\n",
       "      <td>0.000000e+00</td>\n",
       "      <td>0.000000e+00</td>\n",
       "    </tr>\n",
       "    <tr>\n",
       "      <th>max</th>\n",
       "      <td>1.099511e+12</td>\n",
       "      <td>1.099508e+12</td>\n",
       "      <td>1.099401e+12</td>\n",
       "      <td>9.814537e+11</td>\n",
       "      <td>1.077719e+12</td>\n",
       "      <td>8.944136e+11</td>\n",
       "      <td>1.029647e+06</td>\n",
       "      <td>1.827000e+03</td>\n",
       "      <td>1.180000e+03</td>\n",
       "      <td>5.148236e+05</td>\n",
       "    </tr>\n",
       "  </tbody>\n",
       "</table>\n",
       "</div>"
      ],
      "text/plain": [
       "         Keyword_ID   Ad_group_ID   Campaign_ID    Account_ID     Device_ID  \\\n",
       "count  8.285423e+06  8.285423e+06  8.285423e+06  8.285423e+06  8.285423e+06   \n",
       "mean   5.492429e+11  5.514791e+11  5.175203e+11  4.846436e+11  6.273406e+11   \n",
       "std    3.166589e+11  3.170199e+11  3.136106e+11  2.207485e+11  3.258393e+11   \n",
       "min    9.502900e+05  2.179346e+06  5.045747e+08  1.516649e+11  2.986435e+11   \n",
       "25%    2.738680e+11  2.764484e+11  2.463512e+11  2.213542e+11  2.986435e+11   \n",
       "50%    5.486864e+11  5.513241e+11  5.178672e+11  6.021828e+11  8.487796e+11   \n",
       "75%    8.217763e+11  8.263512e+11  7.850502e+11  6.049053e+11  8.487796e+11   \n",
       "max    1.099511e+12  1.099508e+12  1.099401e+12  9.814537e+11  1.077719e+12   \n",
       "\n",
       "       Match_type_ID       Revenue        Clicks   Conversions           RPC  \n",
       "count   8.285423e+06  8.285423e+06  8.285423e+06  8.285423e+06  8.285423e+06  \n",
       "mean    5.287287e+11  1.782111e+02  3.385137e+00  4.980832e-02  5.113287e+01  \n",
       "std     3.942597e+11  2.327171e+03  6.373065e+00  6.945033e-01  7.113045e+02  \n",
       "min     9.572547e+10  0.000000e+00  2.000000e+00  0.000000e+00  0.000000e+00  \n",
       "25%     9.572547e+10  0.000000e+00  2.000000e+00  0.000000e+00  0.000000e+00  \n",
       "50%     8.725446e+11  0.000000e+00  2.000000e+00  0.000000e+00  0.000000e+00  \n",
       "75%     8.944136e+11  0.000000e+00  2.000000e+00  0.000000e+00  0.000000e+00  \n",
       "max     8.944136e+11  1.029647e+06  1.827000e+03  1.180000e+03  5.148236e+05  "
      ]
     },
     "metadata": {},
     "output_type": "display_data"
    }
   ],
   "source": [
    "train_df['RPC'] = train_df['Revenue']/train_df['Clicks']\n",
    "display(train_df.describe())"
   ]
  },
  {
   "cell_type": "code",
   "execution_count": 40,
   "metadata": {},
   "outputs": [
    {
     "data": {
      "text/plain": [
       "30184"
      ]
     },
     "metadata": {},
     "output_type": "display_data"
    }
   ],
   "source": [
    "X_train = train_df[['Keyword_ID', 'Ad_group_ID', 'Campaign_ID', 'Account_ID', 'Device_ID', 'Match_type_ID']]\n",
    "Y_train = train_df['RPC']\n",
    "#display(X_train)\n",
    "display(len(Y_train.unique()))"
   ]
  },
  {
   "cell_type": "markdown",
   "metadata": {},
   "source": [
    "## Feature engineering"
   ]
  },
  {
   "cell_type": "code",
   "execution_count": 20,
   "metadata": {},
   "outputs": [
    {
     "name": "stderr",
     "output_type": "stream",
     "text": [
      "/Users/kai/anaconda3/lib/python3.6/site-packages/sklearn/feature_extraction/hashing.py:94: DeprecationWarning: the option non_negative=True has been deprecated in 0.19 and will be removed in version 0.21.\n",
      "  \" in version 0.21.\", DeprecationWarning)\n"
     ]
    }
   ],
   "source": [
    "hasher = FeatureHasher(n_features=10,input_type='string')"
   ]
  },
  {
   "cell_type": "markdown",
   "metadata": {},
   "source": [
    "## Model training\n",
    "- xgboost"
   ]
  },
  {
   "cell_type": "code",
   "execution_count": 42,
   "metadata": {},
   "outputs": [
    {
     "data": {
      "text/plain": [
       "(6628338, 6)"
      ]
     },
     "metadata": {},
     "output_type": "display_data"
    },
    {
     "data": {
      "text/plain": [
       "(1657085, 6)"
      ]
     },
     "metadata": {},
     "output_type": "display_data"
    }
   ],
   "source": [
    "# Create dataset for xgboost\n",
    "X_train_sub, X_val, Y_train_sub, Y_val = train_test_split(X_train, Y_train, test_size=0.2, random_state=42)\n",
    "\n",
    "display(X_train_sub.shape)\n",
    "display(X_val.shape)"
   ]
  },
  {
   "cell_type": "code",
   "execution_count": 45,
   "metadata": {},
   "outputs": [],
   "source": [
    "xgb = xgboost.XGBRegressor(n_estimators=100, learning_rate=0.08, gamma=0, subsample=0.75,\n",
    "                           colsample_bytree=1, max_depth=7)"
   ]
  },
  {
   "cell_type": "code",
   "execution_count": 46,
   "metadata": {},
   "outputs": [
    {
     "data": {
      "text/plain": [
       "XGBRegressor(base_score=0.5, booster='gbtree', colsample_bylevel=1,\n",
       "       colsample_bytree=1, gamma=0, learning_rate=0.08, max_delta_step=0,\n",
       "       max_depth=7, min_child_weight=1, missing=None, n_estimators=100,\n",
       "       n_jobs=1, nthread=None, objective='reg:linear', random_state=0,\n",
       "       reg_alpha=0, reg_lambda=1, scale_pos_weight=1, seed=None,\n",
       "       silent=True, subsample=0.75)"
      ]
     },
     "execution_count": 46,
     "metadata": {},
     "output_type": "execute_result"
    }
   ],
   "source": [
    "xgb.fit(X_train_sub, Y_train_sub)"
   ]
  },
  {
   "cell_type": "code",
   "execution_count": 52,
   "metadata": {},
   "outputs": [
    {
     "name": "stdout",
     "output_type": "stream",
     "text": [
      "[ 34.650017 156.68808   26.956276 ... 144.94804   39.68755   33.23196 ]\n",
      "-260.88722642611555\n"
     ]
    }
   ],
   "source": [
    "predictions = xgb.predict(X_val)\n",
    "print(predictions)\n",
    "print(explained_variance_score(predictions,Y_val))"
   ]
  },
  {
   "cell_type": "code",
   "execution_count": 51,
   "metadata": {},
   "outputs": [
    {
     "name": "stdout",
     "output_type": "stream",
     "text": [
      "[35.081413 54.32881  19.11128  ... 43.60347  32.216434 32.216434]\n"
     ]
    }
   ],
   "source": [
    "xgdmat=xgboost.DMatrix(X_train_sub, Y_train_sub)\n",
    "our_params={'eta':0.1,'seed':0,'subsample':0.8,'colsample_bytree':0.8,'objective':'reg:linear','max_depth':3,'min_child_weight':1}\n",
    "final_gb=xgboost.train(our_params,xgdmat)\n",
    "tesdmat=xgboost.DMatrix(X_val)\n",
    "y_pred=final_gb.predict(tesdmat)\n",
    "print(y_pred)"
   ]
  },
  {
   "cell_type": "code",
   "execution_count": null,
   "metadata": {
    "collapsed": true
   },
   "outputs": [],
   "source": []
  }
 ],
 "metadata": {
  "kernelspec": {
   "display_name": "Python 3",
   "language": "python",
   "name": "python3"
  },
  "language_info": {
   "codemirror_mode": {
    "name": "ipython",
    "version": 3
   },
   "file_extension": ".py",
   "mimetype": "text/x-python",
   "name": "python",
   "nbconvert_exporter": "python",
   "pygments_lexer": "ipython3",
   "version": "3.6.2"
  }
 },
 "nbformat": 4,
 "nbformat_minor": 2
}
